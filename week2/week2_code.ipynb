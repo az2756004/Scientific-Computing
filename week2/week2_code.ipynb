{
  "nbformat": 4,
  "nbformat_minor": 0,
  "metadata": {
    "colab": {
      "provenance": [],
      "authorship_tag": "ABX9TyOOdzpCEzO/2mxNR8jSckGL"
    },
    "kernelspec": {
      "name": "python3",
      "display_name": "Python 3"
    },
    "language_info": {
      "name": "python"
    }
  },
  "cells": [
    {
      "cell_type": "markdown",
      "source": [
        "Consider approximating the Runge function. Let $N+1$ be the number of nodes."
      ],
      "metadata": {
        "id": "DOJiA9ERzaY-"
      }
    },
    {
      "cell_type": "markdown",
      "source": [
        "Note：Consider the Runge function $f(x)=\\frac{1}{1+25x^2} \\in (-1,1)$."
      ],
      "metadata": {
        "id": "GnzBg3iVF1Ka"
      }
    },
    {
      "cell_type": "markdown",
      "source": [
        "1. Using cubic spline interpolation, find $N$ such that the error of approximation is less than $10^{-10}$."
      ],
      "metadata": {
        "id": "8Qz2Kouh0DwE"
      }
    },
    {
      "cell_type": "code",
      "source": [
        "import numpy as np\n",
        "from scipy.interpolate import CubicSpline\n",
        "\n",
        "# Runge function\n",
        "def f(x):\n",
        "    return 1/(1+(25*x**2))\n",
        "\n",
        "a, b = -1, 1\n",
        "x_test = np.linspace(a, b, 2001)  # fine grid for error test\n",
        "y_true = f(x_test)\n",
        "\n",
        "tol = 1e-10\n",
        "N = 2\n",
        "\n",
        "while True:\n",
        "    x_i = np.linspace(a, b, N+1)\n",
        "    y_i = f(x_i)\n",
        "\n",
        "    # cubic spline\n",
        "    spline = CubicSpline(x_i, y_i)\n",
        "    y_approx = spline(x_test)\n",
        "\n",
        "    err = np.max(np.abs(y_true - y_approx))\n",
        "\n",
        "    if err < tol:\n",
        "        print(f\" N = {N}, error = {err:.2e}\")\n",
        "        break\n",
        "    N += 1\n"
      ],
      "metadata": {
        "colab": {
          "base_uri": "https://localhost:8080/"
        },
        "id": "WWE8ohbG0Ovj",
        "outputId": "b70dd53d-1d14-4cbe-8a72-480747716a4d"
      },
      "execution_count": 9,
      "outputs": [
        {
          "output_type": "stream",
          "name": "stdout",
          "text": [
            " N = 1574, error = 9.99e-11\n"
          ]
        }
      ]
    },
    {
      "cell_type": "markdown",
      "source": [
        "2. Using Chebyshev nodes, find $N$ such that the error of approximation is less than $10^{-10}$."
      ],
      "metadata": {
        "id": "TbGiaf-a0NdV"
      }
    },
    {
      "cell_type": "code",
      "source": [
        "import numpy as np\n",
        "from scipy.interpolate import BarycentricInterpolator\n",
        "\n",
        "# Runge function\n",
        "def f(x):\n",
        "    return 1/(1+(25*x**2))\n",
        "\n",
        "a, b = -1, 1\n",
        "x_test = np.linspace(a, b, 2001)\n",
        "y_true = f(x_test)\n",
        "\n",
        "tol = 1e-10\n",
        "N = 2\n",
        "\n",
        "while True:\n",
        "    # Chebyshev nodes of the second kind, scaled to [a,b]\n",
        "    k = np.arange(N+1)\n",
        "    x_i = np.cos(np.pi * k / N)\n",
        "    x_i = 0.5*(a+b) + 0.5*(b-a)*x_i\n",
        "    y_i = f(x_i)\n",
        "\n",
        "    # barycentric interpolation (stable)\n",
        "    interpolant = BarycentricInterpolator(x_i, y_i)\n",
        "    y_approx = interpolant(x_test)\n",
        "\n",
        "    err = np.max(np.abs(y_true - y_approx))\n",
        "\n",
        "    if err < tol:\n",
        "        print(f\"N = {N}, error = {err:.2e}\")\n",
        "        break\n",
        "    N += 1\n",
        "\n"
      ],
      "metadata": {
        "colab": {
          "base_uri": "https://localhost:8080/"
        },
        "id": "nlWEKzIn0PXD",
        "outputId": "e580b489-188e-48e2-875a-fd5792d2f225"
      },
      "execution_count": 10,
      "outputs": [
        {
          "output_type": "stream",
          "name": "stdout",
          "text": [
            "N = 116, error = 9.39e-11\n"
          ]
        }
      ]
    }
  ]
}
