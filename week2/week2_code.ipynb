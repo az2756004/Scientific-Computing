{
  "nbformat": 4,
  "nbformat_minor": 0,
  "metadata": {
    "colab": {
      "provenance": []
    },
    "kernelspec": {
      "name": "python3",
      "display_name": "Python 3"
    },
    "language_info": {
      "name": "python"
    }
  },
  "cells": [
    {
      "cell_type": "markdown",
      "source": [
        "Consider approximating the Runge function. Let $N+1$ be the number of nodes."
      ],
      "metadata": {
        "id": "DOJiA9ERzaY-"
      }
    },
    {
      "cell_type": "markdown",
      "source": [
        "1. Using cubic spline interpolation, find $N$ such that the error of approximation is less than $10^{-10}$."
      ],
      "metadata": {
        "id": "8Qz2Kouh0DwE"
      }
    },
    {
      "cell_type": "code",
      "source": [
        "import numpy as np\n",
        "from scipy.interpolate import CubicSpline\n",
        "\n",
        "# Runge function\n",
        "def f(x):\n",
        "    return 1/(1+x**2)\n",
        "\n",
        "# domain\n",
        "a, b = -5, 5\n",
        "x_test = np.linspace(a, b, 2001)  # fine grid for error test\n",
        "y_true = f(x_test)\n",
        "\n",
        "tol = 1e-10\n",
        "N = 2  # start with 3 nodes\n",
        "\n",
        "while True:\n",
        "    x_nodes = np.linspace(a, b, N+1)  # uniform nodes\n",
        "    y_nodes = f(x_nodes)\n",
        "\n",
        "    # cubic spline\n",
        "    spline = CubicSpline(x_nodes, y_nodes)\n",
        "    y_approx = spline(x_test)\n",
        "\n",
        "    err = np.max(np.abs(y_true - y_approx))\n",
        "\n",
        "    if err < tol:\n",
        "        print(f\"Cubic spline interpolation: N = {N}, error = {err:.2e}\")\n",
        "        break\n",
        "    N += 1\n"
      ],
      "metadata": {
        "colab": {
          "base_uri": "https://localhost:8080/"
        },
        "id": "WWE8ohbG0Ovj",
        "outputId": "28d5c3a3-65b9-4117-9a83-bff5a9c4dde8"
      },
      "execution_count": 3,
      "outputs": [
        {
          "output_type": "stream",
          "name": "stdout",
          "text": [
            "Cubic spline interpolation: N = 1574, error = 9.99e-11\n"
          ]
        }
      ]
    },
    {
      "cell_type": "markdown",
      "source": [
        "2. Using Chebyshev nodes, find $N$ such that the error of approximation is less than $10^{-10}$."
      ],
      "metadata": {
        "id": "TbGiaf-a0NdV"
      }
    },
    {
      "cell_type": "code",
      "source": [
        "import numpy as np\n",
        "from scipy.interpolate import BarycentricInterpolator\n",
        "\n",
        "# Runge function\n",
        "def f(x):\n",
        "    return 1/(1+x**2)\n",
        "\n",
        "# domain\n",
        "a, b = -5, 5\n",
        "x_test = np.linspace(a, b, 2001)\n",
        "y_true = f(x_test)\n",
        "\n",
        "tol = 1e-10\n",
        "N = 2  # start with 3 nodes\n",
        "\n",
        "while True:\n",
        "    # Chebyshev nodes of the second kind, scaled to [a,b]\n",
        "    k = np.arange(N+1)\n",
        "    x_nodes = np.cos(np.pi * k / N)   # in [-1,1]\n",
        "    x_nodes = 0.5*(a+b) + 0.5*(b-a)*x_nodes  # scale to [a,b]\n",
        "    y_nodes = f(x_nodes)\n",
        "\n",
        "    # barycentric interpolation (stable)\n",
        "    interpolant = BarycentricInterpolator(x_nodes, y_nodes)\n",
        "    y_approx = interpolant(x_test)\n",
        "\n",
        "    err = np.max(np.abs(y_true - y_approx))\n",
        "\n",
        "    if err < tol:\n",
        "        print(f\"Chebyshev barycentric interpolation: N = {N}, error = {err:.2e}\")\n",
        "        break\n",
        "    N += 1\n",
        "\n"
      ],
      "metadata": {
        "colab": {
          "base_uri": "https://localhost:8080/"
        },
        "id": "nlWEKzIn0PXD",
        "outputId": "e741e1e0-6005-4c60-b798-36651c13af85"
      },
      "execution_count": 5,
      "outputs": [
        {
          "output_type": "stream",
          "name": "stdout",
          "text": [
            "Chebyshev barycentric interpolation: N = 116, error = 9.39e-11\n"
          ]
        }
      ]
    }
  ]
}