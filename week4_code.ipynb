{
  "nbformat": 4,
  "nbformat_minor": 0,
  "metadata": {
    "colab": {
      "provenance": [],
      "authorship_tag": "ABX9TyPE1cRjvt5KxeuxKmcjC5Xc"
    },
    "kernelspec": {
      "name": "python3",
      "display_name": "Python 3"
    },
    "language_info": {
      "name": "python"
    }
  },
  "cells": [
    {
      "cell_type": "markdown",
      "source": [
        "Approximate the integral such that the error of approximation is less than $10^{−10}$."
      ],
      "metadata": {
        "id": "X79NLHj57vaG"
      }
    },
    {
      "cell_type": "markdown",
      "source": [
        "1. $\\int^{\\infty}_{0} \\frac{1}{1+25x^2}\\,dx$"
      ],
      "metadata": {
        "id": "nMDoiZFm7zC9"
      }
    },
    {
      "cell_type": "code",
      "source": [
        "import numpy as np\n",
        "from scipy.integrate import quad\n",
        "\n",
        "def f1(x):\n",
        "    return 1/(1+25*x**2)\n",
        "\n",
        "I1, err1 = quad(f1, 0, np.inf, epsabs=1e-12)\n",
        "\n",
        "exact1 = np.pi/10\n",
        "\n",
        "print(\"Integral I1 =\", I1)\n",
        "print(\"Estimated error =\", err1)\n",
        "print(\"Exact =\", exact1)\n",
        "print(\"Absolute error =\", abs(I1 - exact1))\n"
      ],
      "metadata": {
        "colab": {
          "base_uri": "https://localhost:8080/"
        },
        "id": "6bERNT0a75-e",
        "outputId": "869d1b58-3a7d-4699-f3e1-abfa8bc9aa0a"
      },
      "execution_count": 3,
      "outputs": [
        {
          "output_type": "stream",
          "name": "stdout",
          "text": [
            "Integral I1 = 0.31415926535897887\n",
            "Estimated error = 3.953979572021162e-09\n",
            "Exact = 0.3141592653589793\n",
            "Absolute error = 4.440892098500626e-16\n"
          ]
        }
      ]
    },
    {
      "cell_type": "markdown",
      "source": [
        "2. $\\int^{1}_{0} \\frac{\\ln(x)}{1+25x^2}\\,dx$"
      ],
      "metadata": {
        "id": "n-IMHRsg75ZV"
      }
    },
    {
      "cell_type": "code",
      "source": [
        "import numpy as np\n",
        "from scipy.integrate import quad\n",
        "\n",
        "def f2(x):\n",
        "    return np.log(x)/(1+25*x**2)\n",
        "\n",
        "I2, err2 = quad(f2, 0, 1, epsabs=1e-12)\n",
        "\n",
        "print(\"Integral I2 =\", I2)\n",
        "print(\"Estimated error =\", err2)\n"
      ],
      "metadata": {
        "colab": {
          "base_uri": "https://localhost:8080/"
        },
        "id": "bSQ-zxqA79gO",
        "outputId": "1abd7545-84f2-4537-88be-c0625f59a9fa"
      },
      "execution_count": 4,
      "outputs": [
        {
          "output_type": "stream",
          "name": "stdout",
          "text": [
            "Integral I2 = -0.5454445634198232\n",
            "Estimated error = 4.3852532716215364e-10\n"
          ]
        }
      ]
    }
  ]
}